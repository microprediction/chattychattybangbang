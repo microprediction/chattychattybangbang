{
  "nbformat": 4,
  "nbformat_minor": 0,
  "metadata": {
    "colab": {
      "provenance": [],
      "authorship_tag": "ABX9TyOdb8GiIqRg0UCQUpLVVjSk",
      "include_colab_link": true
    },
    "kernelspec": {
      "name": "python3",
      "display_name": "Python 3"
    },
    "language_info": {
      "name": "python"
    }
  },
  "cells": [
    {
      "cell_type": "markdown",
      "metadata": {
        "id": "view-in-github",
        "colab_type": "text"
      },
      "source": [
        "<a href=\"https://colab.research.google.com/github/microprediction/chattychattybangbang/blob/main/notebookexamples/ccbb_pompous.ipynb\" target=\"_parent\"><img src=\"https://colab.research.google.com/assets/colab-badge.svg\" alt=\"Open In Colab\"/></a>"
      ]
    },
    {
      "cell_type": "code",
      "execution_count": null,
      "metadata": {
        "id": "xTeCIWtO6hY-"
      },
      "outputs": [],
      "source": [
        "!pip install --upgrade chattychattybangbang"
      ]
    },
    {
      "cell_type": "code",
      "source": [
        "import os\n",
        "os.environ['OPEN_AI_KEY'] = 'sk-GsVJpnIZbB6YlII4e1uT33BlbkJFVvq5oBJ3NPqkbJkk4IKv' # <-- Your key here"
      ],
      "metadata": {
        "id": "mU52XGOrAOCy"
      },
      "execution_count": 1,
      "outputs": []
    },
    {
      "cell_type": "code",
      "source": [
        "from chattychattybangbang.castigateuntilvalid import castigate_until_numeric_dict\n",
        "from pprint import pprint\n",
        "\n",
        "d_all = dict()\n",
        "for _ in range(5):\n",
        "    pomposity_question = \"\"\" I would like you to pick any ten pretty famous intellectuals from any era and\n",
        "                    assign a pomposity score to them between 1 (1 mean not pompous) to 10 (10 means extremely pompous). \n",
        "                    Please return this as a dictionary keyed by the person's name  where the \n",
        "                    value should be an integer. Only return a dictionary, sorted from most pompous down. \n",
        "                    \"\"\"\n",
        "    castigator = lambda question_response: pomposity_question + \" Make sure you return only a dict, and the complete dict. Do not finish printing\"\n",
        "    d = castigate_until_numeric_dict(question=pomposity_question, castigator=castigator, max_retries=10)\n",
        "    if d is not None:\n",
        "        d_all.update(d)\n",
        "        pprint(sorted(d_all.items(), key=lambda x: x[1], reverse=True))\n"
      ],
      "metadata": {
        "colab": {
          "base_uri": "https://localhost:8080/"
        },
        "id": "ivivvHBU6vxE",
        "outputId": "c9a14f7f-7d65-4dd8-a7e0-07c50cd3b9f7"
      },
      "execution_count": 2,
      "outputs": [
        {
          "output_type": "stream",
          "name": "stdout",
          "text": [
            "[('Socrates', 10),\n",
            " ('Plato', 10),\n",
            " ('Aristotle', 10),\n",
            " ('Immanuel Kant', 10),\n",
            " ('René Descartes', 10),\n",
            " ('John Locke', 10),\n",
            " ('David Hume', 10),\n",
            " ('Jean-Jacques Rousseau', 10),\n",
            " ('G. W. F. Hegel', 10),\n",
            " ('Karl Marx', 10)]\n",
            "[('Socrates', 10),\n",
            " ('Jean-Jacques Rousseau', 10),\n",
            " ('G. W. F. Hegel', 10),\n",
            " ('Isaac Newton', 10),\n",
            " ('René Descartes', 9),\n",
            " ('Immanuel Kant', 8),\n",
            " ('Plato', 7),\n",
            " ('Aristotle', 6),\n",
            " ('Rene Descartes', 5),\n",
            " ('John Locke', 4),\n",
            " ('David Hume', 3),\n",
            " ('Friedrich Nietzsche', 2),\n",
            " ('Karl Marx', 1)]\n",
            "[('Socrates', 10),\n",
            " ('G. W. F. Hegel', 10),\n",
            " ('Isaac Newton', 10),\n",
            " ('Plato', 9),\n",
            " ('René Descartes', 9),\n",
            " ('Aristotle', 8),\n",
            " ('Immanuel Kant', 7),\n",
            " ('Rene Descartes', 6),\n",
            " ('John Locke', 5),\n",
            " ('Jean-Jacques Rousseau', 4),\n",
            " ('Thomas Hobbes', 3),\n",
            " ('David Hume', 2),\n",
            " ('Karl Marx', 1),\n",
            " ('Friedrich Nietzsche', 1)]\n",
            "[('Socrates', 10),\n",
            " ('Plato', 10),\n",
            " ('Aristotle', 10),\n",
            " ('Immanuel Kant', 10),\n",
            " ('John Locke', 10),\n",
            " ('David Hume', 10),\n",
            " ('Jean-Jacques Rousseau', 10),\n",
            " ('G. W. F. Hegel', 10),\n",
            " ('Isaac Newton', 10),\n",
            " ('Rene Descartes', 10),\n",
            " ('Friedrich Nietzsche', 10),\n",
            " ('René Descartes', 9),\n",
            " ('Thomas Hobbes', 3),\n",
            " ('Karl Marx', 1)]\n",
            "[('Socrates', 10),\n",
            " ('David Hume', 10),\n",
            " ('Jean-Jacques Rousseau', 10),\n",
            " ('G. W. F. Hegel', 10),\n",
            " ('Rene Descartes', 10),\n",
            " ('Friedrich Nietzsche', 10),\n",
            " ('Plato', 9),\n",
            " ('René Descartes', 9),\n",
            " ('Ludwig Wittgenstein', 8),\n",
            " ('John Locke', 7),\n",
            " ('Isaac Newton', 6),\n",
            " ('Immanuel Kant', 5),\n",
            " ('Charles Darwin', 4),\n",
            " ('Thomas Hobbes', 3),\n",
            " ('Bertrand Russell', 3),\n",
            " ('Aristotle', 2),\n",
            " ('Karl Marx', 1),\n",
            " ('Albert Einstein', 1)]\n"
          ]
        }
      ]
    }
  ]
}